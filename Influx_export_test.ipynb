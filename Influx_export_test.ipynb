{
 "cells": [
  {
   "cell_type": "code",
   "execution_count": 1,
   "metadata": {},
   "outputs": [],
   "source": [
    "import csv\n",
    "from influxdb_client import InfluxDBClient\n",
    "\n"
   ]
  },
  {
   "cell_type": "code",
   "execution_count": 2,
   "metadata": {},
   "outputs": [],
   "source": [
    "# Connection Params for InfluxDB\n",
    "url = \"http://Pi-Ip-address:8086\"\n",
    "token = \"API-token\"\n",
    "org = \"Your-Org\"\n",
    "bucket = \"SensorBucket\"\n",
    "\n",
    "# Time Range for export (will add usr input)\n",
    "start = \"-30m\"\n",
    "stop = \"now()\"\n",
    "\n",
    "\n"
   ]
  },
  {
   "cell_type": "code",
   "execution_count": 3,
   "metadata": {},
   "outputs": [],
   "source": [
    "\n",
    "# List of metrics (measurements and fields) to pull\n",
    "metrics = [\n",
    "    {\"measurement\": \"airgradient_co2_ppm\"},\n",
    "    {\"measurement\": \"airgradient_humidity_compensated_percent\"},\n",
    "    {\"measurement\": \"airgradient_humidity_percent\"},\n",
    "    {\"measurement\": \"airgradient_temperature_celsius\"},\n",
    "    {\"measurement\": \"airgradient_co2_ppm\"},\n",
    "    {\"measurement\": \"airgradient_humidity_compensated_percent\"},\n",
    "    {\"measurement\": \"airgradient_humidity_percent\"},\n",
    "    {\"measurement\": \"airgradient_nox_index\"},\n",
    "    {\"measurement\": \"airgradient_nox_raw\"},\n",
    "    {\"measurement\": \"airgradient_pm0d3_p100ml\"},\n",
    "    {\"measurement\": \"airgradient_pm10_ugm3\"},\n",
    "    {\"measurement\": \"airgradient_pm1_ugm3\"},\n",
    "    {\"measurement\": \"airgradient_pm2d5_ugm3\"},\n",
    "    {\"measurement\": \"airgradient_temperature_compensated_celsius\"},\n",
    "    {\"measurement\": \"airgradient_tvoc_index\"},\n",
    "    {\"measurement\": \"airgradient_tvoc_raw\"},\n",
    "]"
   ]
  },
  {
   "cell_type": "code",
   "execution_count": null,
   "metadata": {},
   "outputs": [],
   "source": [
    "\n",
    "# Create the InfluxDB client\n",
    "client = InfluxDBClient(url=url, token=token, org=org)\n",
    "\n",
    "# Define a Flux query to retrieve multiple metrics together\n",
    "query = f'''\n",
    "from(bucket: \"{bucket}\")\n",
    "|> range(start: {start}, stop: {stop})\n",
    "|> filter(fn: (r) => r._measurement == \"{metrics[0]['measurement']}\")\n",
    "'''  # Initial query for the first metric\n",
    "\n",
    "# Build the query for additional metrics\n",
    "for metric in metrics[1:]:\n",
    "    query += f'''\n",
    "|> join(\n",
    "    tables: {{main: .}},\n",
    "    on: [\"_time\"],\n",
    "    tables_2: from(bucket: \"{bucket}\")\n",
    "    |> range(start: {start}, stop: {stop})\n",
    "    |> filter(fn: (r) => r._measurement == \"{metric['measurement']}\")\n",
    "    )\n",
    "    |> yield()\n",
    "'''\n",
    "\n",
    "# Run the query\n",
    "query_api = client.query_api()\n",
    "tables = query_api.query(query)\n",
    "\n",
    "# Process results into a dictionary with timestamps as keys\n",
    "data_dict = {}\n",
    "\n",
    "for table in tables:\n",
    "    for record in table.records:\n",
    "        time = record.get_time()\n",
    "        measurement = record.get_measurement()\n",
    "        field = record.get_field()\n",
    "        value = record.get_value()\n",
    "\n",
    "        # Initialize dictionary entry for the time if it doesn't exist\n",
    "        if time not in data_dict:\n",
    "            data_dict[time] = {}\n",
    "        \n",
    "        # Store the value for the corresponding field\n",
    "        data_dict[time][measurement] = value\n",
    "\n",
    "# Write data to a CSV file\n",
    "with open('influxdb_export.csv', 'w', newline='') as csvfile:\n",
    "    csvwriter = csv.writer(csvfile)\n",
    "\n",
    "    # Write header\n",
    "    header = [\"time\"] + [metric['measurement'] for metric in metrics]\n",
    "    csvwriter.writerow(header)\n",
    "\n",
    "    # Write data rows\n",
    "    for time, values in data_dict.items():\n",
    "        row = [time] + [values.get(metric['measurement'], None) for metric in metrics]\n",
    "        csvwriter.writerow(row)\n",
    "\n",
    "print(\"Data exported to influxdb_export.csv\")\n",
    "\n",
    "# Close the client\n",
    "client.close()"
   ]
  },
  {
   "cell_type": "code",
   "execution_count": null,
   "metadata": {},
   "outputs": [],
   "source": [
    "QUERY='''from(bucket: \"SensorBucket\")\n",
    "  |> range(start: -30m)\n",
    "  |> filter(fn: (r) => r[\"_measurement\"] == \"airgradient_temperature_celsius\"\n",
    "      or r[\"_measurement\"] == \"airgradient_co2_ppm\"\n",
    "      or r[\"_measurement\"] == \"airgradient_humidity_compensated_percent\"\n",
    "      or r[\"_measurement\"] == \"airgradient_humidity_percent\"\n",
    "      or r[\"_measurement\"] == \"airgradient_nox_index\"\n",
    "      or r[\"_measurement\"] == \"airgradient_nox_raw\"\n",
    "      or r[\"_measurement\"] == \"airgradient_pm0d3_p100ml\"\n",
    "      or r[\"_measurement\"] == \"airgradient_pm10_ugm3\"\n",
    "      or r[\"_measurement\"] == \"airgradient_pm1_ugm3\"\n",
    "      or r[\"_measurement\"] == \"airgradient_pm2d5_ugm3\"\n",
    "      or r[\"_measurement\"] == \"airgradient_temperature_compensated_celsius\"\n",
    "      or r[\"_measurement\"] == \"airgradient_tvoc_index\"\n",
    "      or r[\"_measurement\"] == \"airgradient_tvoc_raw\")\n",
    "  |> keep(columns: [\"_time\", \"_value\", \"_measurement\"])\n",
    "  |> pivot(rowKey:[\"_time\"], columnKey: [\"_measurement\"], valueColumn: \"_value\")\n",
    "'''\n",
    "client = InfluxDBClient(url=url, token=token, org=org)\n",
    "query_api = client.query_api()\n",
    "tables = query_api.query(query)"
   ]
  },
  {
   "cell_type": "code",
   "execution_count": 14,
   "metadata": {},
   "outputs": [],
   "source": [
    "\n",
    "# Create the InfluxDB client\n",
    "client = InfluxDBClient(url=url, token=token, org=org)\n",
    "\n",
    "# Define a Flux query to retrieve multiple metrics together\n",
    "query = \"\"\"from(bucket: \"SensorBucket\")\n",
    "  |> range(start: -30m)\n",
    "  |> filter(fn: (r) => r[\"_measurement\"] == \"airgradient_temperature_celsius\"\n",
    "    or r[\"_measurement\"] == \"airgradient_co2_ppm\"\n",
    "    or r[\"_measurement\"] == \"airgradient_humidity_compensated_percent\"\n",
    "    or r[\"_measurement\"] == \"airgradient_humidity_percent\"\n",
    "    or r[\"_measurement\"] == \"airgradient_nox_index\"\n",
    "    or r[\"_measurement\"] == \"airgradient_nox_raw\"\n",
    "    or r[\"_measurement\"] == \"airgradient_pm0d3_p100ml\"\n",
    "    or r[\"_measurement\"] == \"airgradient_pm10_ugm3\"\n",
    "    or r[\"_measurement\"] == \"airgradient_pm1_ugm3\"\n",
    "    or r[\"_measurement\"] == \"airgradient_pm2d5_ugm3\"\n",
    "    or r[\"_measurement\"] == \"airgradient_temperature_compensated_celsius\"\n",
    "    or r[\"_measurement\"] == \"airgradient_tvoc_index\"\n",
    "    or r[\"_measurement\"] == \"airgradient_tvoc_raw\")\n",
    "  |> filter(fn: (r) => r[\"_field\"] == \"gauge\")\n",
    "\"\"\"\n",
    "\n",
    "# Run the query\n",
    "query_api = client.query_api()\n",
    "tables = query_api.query(query)\n",
    "\n",
    "\n",
    "client.close()"
   ]
  },
  {
   "cell_type": "markdown",
   "metadata": {},
   "source": [
    "  |> keep(columns: [\"_time\", \"_value\", \"_measurement\"])\n",
    "  |> pivot(rowKey:[\"_time\"], columnKey: [\"_measurement\"], valueColumn: \"_value\")"
   ]
  },
  {
   "cell_type": "code",
   "execution_count": 15,
   "metadata": {},
   "outputs": [
    {
     "name": "stdout",
     "output_type": "stream",
     "text": [
      "[<FluxTable: 11 columns, 179 records>, <FluxTable: 11 columns, 179 records>, <FluxTable: 11 columns, 179 records>, <FluxTable: 10 columns, 179 records>, <FluxTable: 10 columns, 179 records>, <FluxTable: 11 columns, 179 records>, <FluxTable: 11 columns, 179 records>, <FluxTable: 11 columns, 179 records>, <FluxTable: 11 columns, 179 records>, <FluxTable: 11 columns, 179 records>, <FluxTable: 11 columns, 179 records>, <FluxTable: 10 columns, 179 records>, <FluxTable: 10 columns, 179 records>]\n"
     ]
    }
   ],
   "source": [
    "print(tables)"
   ]
  },
  {
   "cell_type": "code",
   "execution_count": 18,
   "metadata": {},
   "outputs": [],
   "source": [
    "\n",
    "# Process results into a dictionary with timestamps as keys\n",
    "data_dict = {}\n",
    "\n",
    "for table in tables:\n",
    "    for record in table.records:\n",
    "        # print(record)\n",
    "        time = record.get_time()\n",
    "        # print(time)\n",
    "        value = record.get_value()\n",
    "        # print(value)\n",
    "        measurement = record.get_measurement()\n",
    "\n",
    "\n",
    "        # Initialize dictionary entry for the time if it doesn't exist\n",
    "        if time not in data_dict:\n",
    "            data_dict[time] = {}\n",
    "        \n",
    "        # Store the value for the corresponding field\n",
    "        data_dict[time][measurement] = value\n"
   ]
  },
  {
   "cell_type": "code",
   "execution_count": 21,
   "metadata": {},
   "outputs": [
    {
     "name": "stdout",
     "output_type": "stream",
     "text": [
      "Data exported to influxdb_export.csv\n"
     ]
    }
   ],
   "source": [
    "with open('influxdb_export.csv', 'w', newline='') as csvfile:\n",
    "    csvwriter = csv.writer(csvfile)\n",
    "\n",
    "    # Write header\n",
    "    header = [\"time\"] + [metric['measurement'] for metric in metrics]\n",
    "    csvwriter.writerow(header)\n",
    "\n",
    "    # Write data rows\n",
    "    for time, values in data_dict.items():\n",
    "        row = [time] + [values.get(metric['measurement'], None) for metric in metrics]\n",
    "        csvwriter.writerow(row)\n",
    "\n",
    "print(\"Data exported to influxdb_export.csv\")\n",
    "\n"
   ]
  }
 ],
 "metadata": {
  "kernelspec": {
   "display_name": "Python 3",
   "language": "python",
   "name": "python3"
  },
  "language_info": {
   "codemirror_mode": {
    "name": "ipython",
    "version": 3
   },
   "file_extension": ".py",
   "mimetype": "text/x-python",
   "name": "python",
   "nbconvert_exporter": "python",
   "pygments_lexer": "ipython3",
   "version": "3.13.0"
  }
 },
 "nbformat": 4,
 "nbformat_minor": 2
}
