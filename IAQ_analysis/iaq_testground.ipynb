{
 "cells": [
  {
   "cell_type": "code",
   "execution_count": 1,
   "metadata": {},
   "outputs": [],
   "source": [
    "# Idea: function that returns number of observation (amount of time) metric is above a healthy threshold\n",
    "import pandas as pd\n",
    "import numpy as np\n",
    "import matplotlib.pyplot as plt\n",
    "\n",
    "data = pd.read_csv(\"c:/Users/zdelk/OneDrive - Southface/Documents/datasets/jan23_iaq_edited.csv\")"
   ]
  },
  {
   "cell_type": "code",
   "execution_count": 53,
   "metadata": {},
   "outputs": [],
   "source": [
    "#- Most thresholds were pulled from https://www.airgradient.com/ \n",
    "#- \n",
    "thresholds = {\n",
    "    \"Temp\" : (30,75),\n",
    "    \"Hum\": (30,60),\n",
    "    \"CO2\" : (0,1000),\n",
    "    \"PM2.5\" : (0, 15)\n",
    "}\n",
    "\n",
    "#- threshold range\n",
    "nested_list = []\n",
    "for col in data.columns:\n",
    "    if col in thresholds:\n",
    "        lower, upper = thresholds[col]\n",
    "        val_list = []\n",
    "        for i in range(len(data[col])):\n",
    "            if data[col][i] >= lower and data[col][i] <= upper:\n",
    "                val_list.append(1)\n",
    "            else:\n",
    "                val_list.append(0)\n",
    "                \n",
    "        nested_list.append(val_list)\n",
    "\n",
    "    else:\n",
    "        id_list = data[col]\n",
    "    \n",
    "binary_thresh_df = pd.DataFrame(nested_list).T\n",
    "bin_thresh_full = pd.concat([id_list, binary_thresh_df], axis=1)\n",
    "\n",
    "bin_thresh_full.columns = data.columns"
   ]
  },
  {
   "cell_type": "code",
   "execution_count": 2,
   "metadata": {},
   "outputs": [],
   "source": [
    "thresholds = {\n",
    "    \"Temp\": {\n",
    "        \"Healthy\": (68, 75),\n",
    "        \"Warning\": (64.4, 78.8),\n",
    "        \"Unhealthy\": (60.8, 82.4)\n",
    "    },\n",
    "    \"Hum\": {\n",
    "        \"Healthy\": (30, 60),\n",
    "        \"Warning\": (25, 65),\n",
    "        \"Unhealthy\":(20, 70)\n",
    "    },\n",
    "    \"CO2\": {\n",
    "        \"Healthy\": (0, 800),\n",
    "        \"Warning\": (0, 1000),\n",
    "        \"Unhealthy\": (0, 1500)\n",
    "    },\n",
    "    \"PM2.5\": {\n",
    "        \"Healthy\": (0, 15),\n",
    "        \"Warning\": (0, 35),\n",
    "        \"Unhealthy\":(0, 55)\n",
    "    },\n",
    "    \"PM10\": {\n",
    "        \"Healthy\": (0, 15),\n",
    "        \"Warning\": (0, 35),\n",
    "        \"Unhealthy\":(0, 55)\n",
    "    }\n",
    "}"
   ]
  },
  {
   "cell_type": "code",
   "execution_count": 3,
   "metadata": {},
   "outputs": [],
   "source": [
    "nested_list = []\n",
    "for col in data.columns:\n",
    "    if col in thresholds:\n",
    "        col_thresholds = thresholds[col]\n",
    "        val_list = []\n",
    "        for value in data[col]:\n",
    "            category = None\n",
    "            for label, (lower, upper) in col_thresholds.items():\n",
    "                if lower <= value <= upper:\n",
    "                    category = label\n",
    "                    break\n",
    "                else:\n",
    "                    category = \"Dangerous\"\n",
    "            val_list.append(category)\n",
    "        nested_list.append(val_list)\n",
    "    else:\n",
    "        id_list = data[col]\n",
    "        \n",
    "\n",
    "classified_df = pd.DataFrame(nested_list).T\n",
    "multi_class_df = pd.concat([id_list, classified_df], axis=1)\n",
    "\n",
    "multi_class_df.columns = data.columns"
   ]
  },
  {
   "cell_type": "code",
   "execution_count": null,
   "metadata": {},
   "outputs": [],
   "source": [
    "#- Full frequency table\n",
    "freq_table = multi_class_df.iloc[:,1:].apply(lambda col: col.value_counts()).fillna(0).astype(int)\n",
    "print(freq_table)\n",
    "category_colors = {\n",
    "    \"Healthy\": \"green\",\n",
    "    \"Warning\": \"yellow\",\n",
    "    \"Unhealthy\": \"orange\",\n",
    "    \"Dangerous\": \"red\"\n",
    "}\n",
    "\n",
    "for col in freq_table:\n",
    "    filter_col = {k: v for k,v in freq_table[col].items() if v>0}\n",
    "    \n",
    "    labels = list(filter_col.keys())\n",
    "    values = list(filter_col.values())\n",
    "    \n",
    "    colors = [category_colors[label] for label in labels]\n",
    "    \n",
    "    plt.pie(values, labels=labels, colors=colors,\n",
    "            autopct='%1.1f%%', startangle=140)\n",
    "    plt.legend(title = \"Threshold Status:\")\n",
    "    plt.title(freq_table[col].name)\n",
    "    plt.show()"
   ]
  },
  {
   "cell_type": "code",
   "execution_count": 30,
   "metadata": {},
   "outputs": [
    {
     "name": "stdout",
     "output_type": "stream",
     "text": [
      "Temp     36.80\n",
      "Hum      85.76\n",
      "CO2      47.77\n",
      "PM2.5    62.31\n",
      "dtype: float64\n"
     ]
    }
   ],
   "source": [
    "#- Percent (%) of time  within Healthy threshold range\n",
    "print(round(bin_thresh_full.iloc[:,1:].sum() / bin_thresh_full.iloc[:,1:].count() * 100, 2))"
   ]
  },
  {
   "cell_type": "code",
   "execution_count": 17,
   "metadata": {},
   "outputs": [],
   "source": [
    "import iaq_functions as iaq\n",
    "data = pd.read_csv(\"c:/Users/zdelk/OneDrive - Southface/Documents/datasets/jan23_iaq_edited.csv\")\n",
    "\n",
    "classified_data = iaq.multiclass_threshold(data=data)"
   ]
  },
  {
   "cell_type": "code",
   "execution_count": null,
   "metadata": {},
   "outputs": [],
   "source": [
    "iaq.pie_plotter(data=classified_data)\n"
   ]
  }
 ],
 "metadata": {
  "kernelspec": {
   "display_name": "Python 3",
   "language": "python",
   "name": "python3"
  },
  "language_info": {
   "codemirror_mode": {
    "name": "ipython",
    "version": 3
   },
   "file_extension": ".py",
   "mimetype": "text/x-python",
   "name": "python",
   "nbconvert_exporter": "python",
   "pygments_lexer": "ipython3",
   "version": "3.13.0"
  }
 },
 "nbformat": 4,
 "nbformat_minor": 2
}
